{
 "cells": [
  {
   "cell_type": "code",
   "execution_count": 1,
   "metadata": {},
   "outputs": [],
   "source": [
    "# ref: https://arxiv.org/pdf/2404.03592"
   ]
  },
  {
   "cell_type": "code",
   "execution_count": 2,
   "metadata": {},
   "outputs": [],
   "source": [
    "import numpy as np"
   ]
  },
  {
   "cell_type": "code",
   "execution_count": 3,
   "metadata": {},
   "outputs": [],
   "source": [
    "# h + R.T @ (W @ h + b - R @h)\n",
    "# r: rank (8)\n",
    "# d: representation dimension (4096)\n",
    "# R: rotation matrix (r, d) (8, 4096)\n",
    "# W: weight (8, 4096)\n",
    "# b: bias (8,)\n",
    "# h: hidden state (4096,)"
   ]
  },
  {
   "cell_type": "code",
   "execution_count": 4,
   "metadata": {},
   "outputs": [],
   "source": [
    "def loreft(h, R, W, b):\n",
    "    return h + R.T @ (W @ h + b - R @ h)"
   ]
  },
  {
   "cell_type": "code",
   "execution_count": 5,
   "metadata": {},
   "outputs": [
    {
     "name": "stdout",
     "output_type": "stream",
     "text": [
      "(4096,)\n"
     ]
    }
   ],
   "source": [
    "h = (np.random.randn(4096) * 10**3).round().astype(int)\n",
    "R = (np.random.randn(8, 4096) * 10**3).round().astype(int)\n",
    "W = (np.random.randn(8, 4096) * 10**3).round().astype(int)\n",
    "b = (np.random.randn(8) * 10**3).round().astype(int)\n",
    "\n",
    "l = loreft(h, R, W, b)\n",
    "print(l.shape)"
   ]
  },
  {
   "cell_type": "code",
   "execution_count": 6,
   "metadata": {},
   "outputs": [],
   "source": [
    "import json\n",
    "\n",
    "INPUT = {}\n",
    "\n",
    "INPUT[\"h\"] = h.tolist()\n",
    "INPUT[\"R\"] = R.tolist()\n",
    "INPUT[\"W\"] = W.tolist()\n",
    "INPUT[\"b\"] = b.tolist()\n",
    "\n",
    "output = l.tolist()"
   ]
  },
  {
   "cell_type": "code",
   "execution_count": 7,
   "metadata": {},
   "outputs": [],
   "source": [
    "with open(\"input.json\", \"w\") as f:\n",
    "    json.dump(INPUT, f)\n",
    "\n",
    "with open(\"output.json\", \"w\") as f:\n",
    "    json.dump(output, f)"
   ]
  },
  {
   "cell_type": "code",
   "execution_count": null,
   "metadata": {},
   "outputs": [],
   "source": []
  }
 ],
 "metadata": {
  "kernelspec": {
   "display_name": "oppai",
   "language": "python",
   "name": "python3"
  },
  "language_info": {
   "codemirror_mode": {
    "name": "ipython",
    "version": 3
   },
   "file_extension": ".py",
   "mimetype": "text/x-python",
   "name": "python",
   "nbconvert_exporter": "python",
   "pygments_lexer": "ipython3",
   "version": "3.10.13"
  }
 },
 "nbformat": 4,
 "nbformat_minor": 2
}
